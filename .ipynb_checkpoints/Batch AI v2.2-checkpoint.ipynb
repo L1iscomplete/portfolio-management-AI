{
 "cells": [
  {
   "cell_type": "markdown",
   "metadata": {},
   "source": [
    "# This is my implementation of the paper:\n",
    "https://arxiv.org/abs/1706.10059"
   ]
  },
  {
   "cell_type": "code",
   "execution_count": 2,
   "metadata": {
    "collapsed": true,
    "scrolled": true
   },
   "outputs": [],
   "source": [
    "import tensorflow as tf\n",
    "import numpy as np\n",
    "import pandas as pd\n",
    "import matplotlib.pyplot as plt\n",
    "%matplotlib inline  \n",
    "from tqdm import tqdm\n",
    "\n",
    "import math\n",
    "import plotly.plotly as py\n",
    "from plotly.graph_objs import *\n",
    "from plotly.offline import download_plotlyjs, init_notebook_mode, plot, iplot\n",
    "\n",
    "import matplotlib.pyplot as plt\n",
    "import matplotlib.animation as animation\n",
    "import time\n",
    "import timeit\n",
    "\n",
    "from pylab import rcParams\n",
    "rcParams['figure.figsize'] = 16, 9\n",
    "\n",
    "poloniex_train = pd.read_hdf('poloniex_30m.hf', key = 'train')\n",
    "m = 5\n",
    "n = 50\n",
    "f = 3\n",
    "fee = 0.0025\n",
    "learning_rate = 3e-5\n",
    "reg_coeff = 1e-8\n",
    "nb = 50 #batch size\n",
    "#training data is from 47 - 43447\n",
    "#test data is else"
   ]
  },
  {
   "cell_type": "code",
   "execution_count": 3,
   "metadata": {
    "collapsed": true
   },
   "outputs": [],
   "source": [
    "poloniex_test = pd.read_hdf('poloniex_30m.hf', 'test')"
   ]
  },
  {
   "cell_type": "code",
   "execution_count": 4,
   "metadata": {
    "collapsed": true,
    "scrolled": false
   },
   "outputs": [],
   "source": [
    "poloniex = pd.concat([poloniex_train, poloniex_test])\n",
    "poloniex = poloniex.iloc[12:51112]"
   ]
  },
  {
   "cell_type": "code",
   "execution_count": 5,
   "metadata": {
    "collapsed": true
   },
   "outputs": [],
   "source": [
    "def pick_batchstart(t):\n",
    "    return int(np.round(t*(np.power(-np.random.uniform(), 5)+1), decimals = 0))"
   ]
  },
  {
   "cell_type": "code",
   "execution_count": 6,
   "metadata": {
    "collapsed": true
   },
   "outputs": [],
   "source": [
    "#making the X_ts\n",
    "def createX_t(t, n, data):\n",
    "    #get n previous points from t\n",
    "    c_counter, h_counter, l_counter = [0,0,0]\n",
    "    v_t = np.zeros(shape = (m))\n",
    "    X_t = np.zeros(shape = (m,n,f))\n",
    "    \n",
    "    #generate X_t without division \n",
    "    for key in data:\n",
    "        if key[1] == 'close' and key[0] != 'BTCBTC':\n",
    "            X_t[c_counter,:,0] = data[key].iloc[t-n:t].as_matrix()\n",
    "            c_counter += 1\n",
    "        if key[1] == 'high' and key[0] != 'BTCBTC':\n",
    "            X_t[h_counter,:,1] = data[key].iloc[t-n:t].as_matrix()\n",
    "            h_counter += 1\n",
    "        if key[1] == 'low' and key[0] != 'BTCBTC':\n",
    "            X_t[l_counter,:,2] = data[key].iloc[t-n:t].as_matrix()\n",
    "            l_counter += 1\n",
    "    \n",
    "    #obtain v_t close\n",
    "    v_t[:] = X_t[:,n-1,0]\n",
    "    #produce the final X_t\n",
    "    for j in range(f):\n",
    "        for i in range(n):\n",
    "            X_t[:,i,j] = np.divide(X_t[:,i,j], v_t[:])\n",
    "    return X_t\n",
    "\n",
    "def createX1_nb(t,n, data):\n",
    "    X1_Xnb = np.empty(shape = [nb,m,n,f])\n",
    "    for i in range(nb):\n",
    "        X1_Xnb[i,:,:,:] = createX_t(t+i, n, data)\n",
    "    return X1_Xnb"
   ]
  },
  {
   "cell_type": "code",
   "execution_count": 81,
   "metadata": {
    "collapsed": true
   },
   "outputs": [],
   "source": [
    "tf.reset_default_graph()\n",
    "def port_ai(X1batch, PVMbatch, batch_size):\n",
    "    inputs_layer = tf.reshape(X1batch, [-1,m,n,f])\n",
    "    \n",
    "    #cash bias \n",
    "    cash_bias = 0.001*tf.ones(shape = [batch_size, 1], dtype = tf.float32)\n",
    "    \n",
    "    #loop to get the weights\n",
    "    #excluding cash for previous portfolio weights \n",
    "    w_0_excash = tf.reshape(tf.slice(PVMbatch, [0, 1], [-1, -1]), [-1,5,1,1])\n",
    "    #output w's\n",
    "    w1_nb_output = []\n",
    "    wsum_output = []\n",
    "    \n",
    "    conv1 = tf.layers.conv2d(inputs = inputs_layer, \n",
    "                             filters = 2, \n",
    "                             kernel_size = [1,3], \n",
    "                             padding = 'VALID', \n",
    "                             activation = tf.nn.relu,\n",
    "                             name = 'layer1',\n",
    "                             kernel_regularizer = tf.contrib.layers.l2_regularizer(scale = reg_coeff))\n",
    "\n",
    "    conv2 = tf.layers.conv2d(inputs = conv1,\n",
    "                            filters = 20,\n",
    "                            kernel_size = [1,48],\n",
    "                            padding = 'VALID',\n",
    "                            activation = tf.nn.relu,\n",
    "                            name = 'layer2',\n",
    "                            kernel_regularizer = tf.contrib.layers.l2_regularizer(scale = reg_coeff))\n",
    "    conv2 = tf.concat([conv2,  w_0_excash], axis = 3)\n",
    "    \n",
    "    conv3 = tf.layers.conv2d(inputs = conv2,\n",
    "                            filters = 1,\n",
    "                            kernel_size = [1,1],\n",
    "                            padding = 'VALID',\n",
    "                            activation = tf.nn.relu,\n",
    "                            name = 'layer3',\n",
    "                            kernel_regularizer = tf.contrib.layers.l2_regularizer(scale = reg_coeff))\n",
    "\n",
    "    conv3 = tf.concat([tf.reshape(cash_bias, [batch_size,1,1,1]), conv3], axis = 1)\n",
    "    w1_nb = tf.nn.softmax(tf.reshape(conv3, [batch_size, m+1]))\n",
    "    return w1_nb, (tf.get_default_graph()).get_tensor_by_name('layer1/kernel:0')\n",
    "\n",
    "def r_t(fee, w_0, X_1, w_1):\n",
    "    #get y_1\n",
    "    y_1 = tf.slice(X_1, [0,n-2,0], [m,1,1])\n",
    "    y_1 = tf.div(tf.ones([m, 1, 1]), y_1)\n",
    "    y_1 = tf.concat([tf.ones([1,1,1]), y_1], axis = 0)\n",
    "    y_1 = tf.reshape(y_1, [m+1])\n",
    "\n",
    "    #get mu_t\n",
    "    y1_mult_w0 = tf.multiply(y_1, w_0)\n",
    "    y1_dot_w0 = tf.reduce_sum(y1_mult_w0)\n",
    "    mu_t = trans_cost(fee, 5, y_1 = y_1, y1_dot_w0 = y1_dot_w0, y1_mult_w0 = y1_mult_w0, w_0 = w_0, w_1 = w_1)\n",
    "\n",
    "    return tf.log(mu_t*y1_dot_w0)\n",
    "\n",
    "def trans_cost(fee, iterations, y_1, y1_dot_w0, y1_mult_w0, w_0, w_1):\n",
    "    \n",
    "    #get w_t'\n",
    "    w_1_prime = tf.scalar_mul(1/y1_dot_w0,y1_mult_w0)\n",
    "\n",
    "    mu = fee*(tf.reduce_sum(tf.abs(tf.subtract(tf.slice(w_1_prime, [1], [m]), tf.slice(w_1, [1], [m])))))\n",
    "    for i in range(iterations):\n",
    "        sumterm = tf.reduce_sum(tf.nn.relu(tf.subtract(w_1_prime,mu*w_1)))\n",
    "\n",
    "        mu = (1/(1-fee*w_1[0])) * ((1-fee*w_1_prime[0]) - (2*fee - tf.square(fee))*sumterm)\n",
    "    return mu"
   ]
  },
  {
   "cell_type": "code",
   "execution_count": 78,
   "metadata": {
    "scrolled": true
   },
   "outputs": [
    {
     "name": "stderr",
     "output_type": "stream",
     "text": [
      "100%|██████████████████████████████████████████████████████████████████████████████████| 50/50 [00:09<00:00,  5.07it/s]\n"
     ]
    }
   ],
   "source": [
    "X1batch = tf.placeholder(shape = [nb,m,n,f], dtype = tf.float32)\n",
    "PVMbatch = tf.placeholder(shape = [nb,m+1], dtype = tf.float32)\n",
    "\n",
    "w1_nb, weight1 = port_ai(X1batch = X1batch, PVMbatch = PVMbatch, batch_size = nb)\n",
    "reward = 0\n",
    "\n",
    "for i in tqdm(range(nb)):\n",
    "    reward += r_t(fee = fee, w_0 = PVMbatch[i], X_1 = X1batch[i], w_1 = w1_nb[i])\n",
    "    \n",
    "optimizer = tf.train.AdamOptimizer(learning_rate = learning_rate).minimize((-1/nb)*reward)"
   ]
  },
  {
   "cell_type": "code",
   "execution_count": 79,
   "metadata": {
    "collapsed": true
   },
   "outputs": [],
   "source": [
    "saver = tf.train.Saver()"
   ]
  },
  {
   "cell_type": "code",
   "execution_count": 12,
   "metadata": {
    "collapsed": true
   },
   "outputs": [],
   "source": [
    "t_f = 51100-1440\n",
    "t_start = t_f - 10000\n",
    "PVM = np.float32(np.random.uniform(size = [10000+1, m+1]))\n",
    "PVM[:,:] = [1.0, 0, 0, 0, 0, 0]"
   ]
  },
  {
   "cell_type": "code",
   "execution_count": 14,
   "metadata": {
    "scrolled": true
   },
   "outputs": [
    {
     "name": "stderr",
     "output_type": "stream",
     "text": [
      "100%|████████████████████████████████████████████████████████████████████████████| 20000/20000 [59:04<00:00,  5.64it/s]\n"
     ]
    },
    {
     "name": "stdout",
     "output_type": "stream",
     "text": [
      "Model saved in file: ./tmp/model.ckpt\n"
     ]
    }
   ],
   "source": [
    "rewards = []\n",
    "w1_nbs = []\n",
    "reward_out = 0\n",
    "weight1_outs = []\n",
    "with tf.Session() as sess:\n",
    "    sess.run(tf.global_variables_initializer())\n",
    "    for steps in tqdm(range(20000)):\n",
    "        t = np.random.randint(n+1,t_f-t_start-n)\n",
    "        _, reward_out, w1_nb_out, weight1_out = sess.run([optimizer, reward, w1_nb, weight1], feed_dict = {X1batch:createX1_nb(t,n, poloniex.iloc[t_start:t_f]), PVMbatch:PVM[t-1-n:t-1,:]})\n",
    "        weight1_outs.append(weight1_out)\n",
    "        rewards.append(reward_out)\n",
    "        PVM[t-n:t] = w1_nb_out\n",
    "    save_path = saver.save(sess, \"./tmp/model.ckpt\")\n",
    "    print(\"Model saved in file: %s\" % save_path)"
   ]
  },
  {
   "cell_type": "markdown",
   "metadata": {},
   "source": [
    "this is trained weights"
   ]
  },
  {
   "cell_type": "markdown",
   "metadata": {},
   "source": [
    "# Testing the network"
   ]
  },
  {
   "cell_type": "code",
   "execution_count": 18,
   "metadata": {
    "collapsed": true
   },
   "outputs": [],
   "source": [
    "def createX1(t,n, data):\n",
    "    X1_Xnb = np.empty(shape = [1,m,n,f])\n",
    "    X1_Xnb[0,:,:,:] = createX_t(t, n, data)\n",
    "    return X1_Xnb"
   ]
  },
  {
   "cell_type": "code",
   "execution_count": 67,
   "metadata": {
    "collapsed": true
   },
   "outputs": [],
   "source": [
    "PVM_test = np.float32(np.random.uniform(size = [51100-45000+1, m+1]))\n",
    "PVM_test[:,:] = [1.0, 0, 0, 0, 0, 0]"
   ]
  },
  {
   "cell_type": "code",
   "execution_count": 82,
   "metadata": {
    "collapsed": true,
    "scrolled": false
   },
   "outputs": [],
   "source": [
    "X1batch_test = tf.placeholder(shape = [1,m,n,f], dtype = tf.float32)\n",
    "PVMbatch_test = tf.placeholder(shape = [1,m+1], dtype = tf.float32)\n",
    "\n",
    "w1_test, weight1_outs_test = port_ai(X1batch = X1batch_test, PVMbatch = PVMbatch_test, batch_size = 1)\n",
    "reward_test = r_t(fee = fee, w_0 = PVMbatch_test[0], X_1 = X1batch_test[0], w_1 = w1_test[0])"
   ]
  },
  {
   "cell_type": "code",
   "execution_count": null,
   "metadata": {
    "collapsed": true
   },
   "outputs": [],
   "source": [
    "with tf.Session() as sess:\n",
    "    sess.run(tf.global_variables_initializer())\n",
    "    saver.restore(sess, \"./tmp/model.ckpt\")\n",
    "    temp_var = sess.run([weight1_outs_test], feed_dict = {X1batch_test:createX1(50,n, poloniex.iloc[45000-50:51100]), PVMbatch_test:PVM_test[0:1]})"
   ]
  },
  {
   "cell_type": "code",
   "execution_count": null,
   "metadata": {
    "collapsed": true
   },
   "outputs": [],
   "source": [
    "rewards_test = []\n",
    "\n",
    "with tf.Session() as sess:\n",
    "    sess.run(tf.global_variables_initializer())\n",
    "    saver.restore(sess, \"./tmp/model.ckpt\")\n",
    "    for t in tqdm(range(n+1, 51100-45000-50)):\n",
    "        reward_test_out, w1_test_out = sess.run([reward_test, w1_test], feed_dict = {X1batch_test:createX1(t,n, poloniex.iloc[45000-50:51100]), PVMbatch_test:PVM_test[t-n-1:t-n]})\n",
    "        PVM_test[t-n] = w1_test_out\n",
    "        rewards_test.append(reward_test_out)\n",
    "#         if (t % nb == 0):\n",
    "#             for _ in range(30):\n",
    "#                 t_train = np.random.randint(t-50, t)\n",
    "#             _ = sess.run([optimizer], feed_dict = {X1batch:createX1_nb(t_train,n, poloniex.iloc[45000-50:51100]), PVMbatch:PVM_test[t-n:t+nb-n,:]})"
   ]
  },
  {
   "cell_type": "code",
   "execution_count": 19,
   "metadata": {},
   "outputs": [
    {
     "data": {
      "text/plain": [
       "[<matplotlib.lines.Line2D at 0x207b2563668>]"
      ]
     },
     "execution_count": 19,
     "metadata": {},
     "output_type": "execute_result"
    },
    {
     "data": {
      "image/png": "[encoded data removed]",
      "text/plain": [
       "<matplotlib.figure.Figure at 0x2098ee72f60>"
      ]
     },
     "metadata": {},
     "output_type": "display_data"
    }
   ],
   "source": [
    "plt.plot(np.exp(np.cumsum(rewards_test)))"
   ]
  }
 ],
 "metadata": {
  "kernelspec": {
   "display_name": "Python 3",
   "language": "python",
   "name": "python3"
  },
  "language_info": {
   "codemirror_mode": {
    "name": "ipython",
    "version": 3
   },
   "file_extension": ".py",
   "mimetype": "text/x-python",
   "name": "python",
   "nbconvert_exporter": "python",
   "pygments_lexer": "ipython3",
   "version": "3.6.3"
  }
 },
 "nbformat": 4,
 "nbformat_minor": 2
}
